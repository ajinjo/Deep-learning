{
 "cells": [
  {
   "cell_type": "markdown",
   "id": "b9dc5207",
   "metadata": {},
   "source": [
    "## 신경망을 위한 데이터 표현"
   ]
  },
  {
   "cell_type": "markdown",
   "id": "e5c31ad5",
   "metadata": {},
   "source": [
    "텐서(tensor)\n",
    "- 다차원 넘파이 배열\n",
    "- 최근의 모든 머신러닝 시스템은 일반적으로 텐서를 기본 데이터 구조로 사용\n",
    "\n",
    "스칼라(0D, 0차원 텐서) \n",
    "벡터 (1D 텐서)  \n",
    "행렬(2D 텐서)  \n",
    "3D 텐서와 고차원 텐서"
   ]
  },
  {
   "cell_type": "markdown",
   "id": "4a6bc107",
   "metadata": {},
   "source": [
    "스칼라(0D, 0차원 텐서)\n",
    "- 하나의 숫자만 담고 있는 텐서\n",
    "- 넘파이에서는 float32나 float64 타입의 숫자가 스칼라 텐서에 해당\n",
    "- ndim 속성을 사용하면 넘파이 배열의 축 개수를 확인할 수 있음\n",
    "- 스칼라 텐서의 축 개수 0임 (ndim : 0)"
   ]
  },
  {
   "cell_type": "code",
   "execution_count": 2,
   "id": "463a33c0",
   "metadata": {},
   "outputs": [
    {
     "data": {
      "text/plain": [
       "array(12)"
      ]
     },
     "execution_count": 2,
     "metadata": {},
     "output_type": "execute_result"
    }
   ],
   "source": [
    "# 스칼라(0D, 0차원 텐서)\n",
    "import numpy as np\n",
    "s = np.array(12)\n",
    "s"
   ]
  },
  {
   "cell_type": "code",
   "execution_count": 4,
   "id": "97deba3d",
   "metadata": {},
   "outputs": [
    {
     "data": {
      "text/plain": [
       "0"
      ]
     },
     "execution_count": 4,
     "metadata": {},
     "output_type": "execute_result"
    }
   ],
   "source": [
    "# 스칼라 텐서의 축 개수 0임 (ndim : 0)\n",
    "s.ndim"
   ]
  },
  {
   "cell_type": "code",
   "execution_count": null,
   "id": "f948f62e",
   "metadata": {},
   "outputs": [],
   "source": [
    "벡터 (1D 텐서)\n",
    "- 숫자의 배열\n",
    "- 하나의 축"
   ]
  },
  {
   "cell_type": "code",
   "execution_count": 5,
   "id": "4b61bcbe",
   "metadata": {},
   "outputs": [
    {
     "data": {
      "text/plain": [
       "array([1, 2, 3, 4, 5])"
      ]
     },
     "execution_count": 5,
     "metadata": {},
     "output_type": "execute_result"
    }
   ],
   "source": [
    "# 벡터 (1D 텐서)\n",
    "v = np.array([1, 2, 3, 4, 5])\n",
    "v"
   ]
  },
  {
   "cell_type": "code",
   "execution_count": 6,
   "id": "5be98372",
   "metadata": {},
   "outputs": [
    {
     "data": {
      "text/plain": [
       "1"
      ]
     },
     "execution_count": 6,
     "metadata": {},
     "output_type": "execute_result"
    }
   ],
   "source": [
    "# 벡터 (1D 텐서) : 하나의 축\n",
    "v.ndim"
   ]
  },
  {
   "cell_type": "markdown",
   "id": "0e8c41d4",
   "metadata": {},
   "source": [
    "5D 벡터 vs 5D 텐서\n",
    "\n",
    "5D 벡터 : array([1, 2, 3, 4, 5])\n",
    "    - 5개의 원소를 가지고 있으므로 5차원 벡터라고 부름\n",
    "    - 하나의 축을 따라 5개의 차원 가진 것임\n",
    "\n",
    "5D 텐서 \n",
    "- 5개의 축을 가진 것\n",
    "- 텐서의 축을 따라 여러 개의 차원을 가진 벡터가 놓일 수 있음"
   ]
  },
  {
   "cell_type": "markdown",
   "id": "0d4f6375",
   "metadata": {},
   "source": [
    "행렬(2D 텐서)\n",
    "- 벡터의 배열이 행렬(matirx) 또는 2D 텐서임\n",
    "- 행렬에는 2개의 축이 있음\n",
    "- 보통 행(row)과 열(column)이라고 함\n",
    "- 첫 번째 축에 놓여 있는 원소를 행이라 부르고\n",
    "- 두 번째 축에 놓여 있는 원소를 열이라 부름"
   ]
  },
  {
   "cell_type": "code",
   "execution_count": 8,
   "id": "f84be815",
   "metadata": {},
   "outputs": [
    {
     "data": {
      "text/plain": [
       "2"
      ]
     },
     "execution_count": 8,
     "metadata": {},
     "output_type": "execute_result"
    }
   ],
   "source": [
    "# 행렬(2D 텐서)\n",
    "m = np.array([[5, 78, 2, 34, 0],\n",
    "              [6, 79, 3, 35, 1],\n",
    "              [7, 80, 4, 36, 2]])\n",
    "m.ndim\n",
    "\n",
    "# 첫 번째 행 : [5, 78, 2, 34, 0]\n",
    "# 첫 번째 열 : [5, 6, 7]"
   ]
  },
  {
   "cell_type": "markdown",
   "id": "619f9b27",
   "metadata": {},
   "source": [
    "3D 텐서와 고차원 텐서\n",
    "- 2D 행렬들을 하나의 새로운 배열로 합치면\n",
    "- 숫자가 채원진 직육면체 형태로 해석될 수 있는 3D 텐서가 만들어짐\n",
    "- 3D 텐서들을 하나의 배열로 합치면 4D 텐서를 만드는 식으로 이어짐\n",
    "- 딥러닝에서는 보텅 0D~4D까지의 텐서를 다룸\n",
    "- 동영상 데이터를 다룰 경우에는 5D 텐서까지 가기도 함"
   ]
  },
  {
   "cell_type": "code",
   "execution_count": 9,
   "id": "157357a7",
   "metadata": {},
   "outputs": [
    {
     "data": {
      "text/plain": [
       "array([[[ 5, 78,  2, 34,  0],\n",
       "        [ 6, 79,  3, 35,  1],\n",
       "        [ 7, 80,  4, 36,  2]],\n",
       "\n",
       "       [[ 5, 78,  2, 34,  0],\n",
       "        [ 6, 79,  3, 35,  1],\n",
       "        [ 7, 80,  4, 36,  2]],\n",
       "\n",
       "       [[ 5, 78,  2, 34,  0],\n",
       "        [ 6, 79,  3, 35,  1],\n",
       "        [ 7, 80,  4, 36,  2]]])"
      ]
     },
     "execution_count": 9,
     "metadata": {},
     "output_type": "execute_result"
    }
   ],
   "source": [
    "# 3D 탠서\n",
    "x = np.array([[[5, 78, 2, 34, 0],\n",
    "               [6, 79, 3, 35, 1],\n",
    "               [7, 80, 4, 36, 2]],\n",
    "              [[5, 78, 2, 34, 0],\n",
    "               [6, 79, 3, 35, 1],\n",
    "               [7, 80, 4, 36, 2]],\n",
    "              [[5, 78, 2, 34, 0],\n",
    "               [6, 79, 3, 35, 1],\n",
    "               [7, 80, 4, 36, 2]]])\n",
    "x"
   ]
  },
  {
   "cell_type": "code",
   "execution_count": 10,
   "id": "1a3715f9",
   "metadata": {},
   "outputs": [
    {
     "data": {
      "text/plain": [
       "3"
      ]
     },
     "execution_count": 10,
     "metadata": {},
     "output_type": "execute_result"
    }
   ],
   "source": [
    "x.ndim # 3D 텐서의 축 : 3"
   ]
  },
  {
   "cell_type": "markdown",
   "id": "5acdd9a2",
   "metadata": {},
   "source": [
    "텐서의 3가지 핵심 속성\n",
    "(1) 축의 개수(랭크)\n",
    "(2) 크기\n",
    "(3) 데이터 타입"
   ]
  },
  {
   "cell_type": "markdown",
   "id": "ec589d59",
   "metadata": {},
   "source": [
    "(1) 축의 개수(랭크)\n",
    "- 3D 텐서에는 3개의 축이 있고\n",
    "- 2D 텐서인 행렬에는 2개의 축이 있음\n",
    "- 넘파이 라이브러리에서는 ndim 속성에 축의 값이 저장되어 있음\n",
    "\n",
    "(2) 크기(shape)\n",
    "- 텐서의 각 축을 따라 얼마나 많은 차원이 있는지를 나타낸 파이썬 튜플 \n",
    "- 예를 들어 행렬의 크기는 (3, 5)이고 3D 텐서의 크기는 (3, 3, 5)\n",
    "- 벡터의 크기는 (5,)처럼 1개의 원소로 이루어진 튜플임\n",
    "- 배열 스칼라는 ()처럼 크기가 없음\n",
    "\n",
    "(3) 데이터 타입 (넘파이에서는 dtype에 저장됨)\n",
    "- 텐서에 포함된 데이터의 타입임\n",
    "- 예를 들어 텐서의 타입은 float32,float64, uinst8 등이 될 수 있음\n",
    "- 드물게 char 타입을 사용함\n",
    "- 텐서는 사전에 할당되어 연속된 메모리에 저장되어야 하므로\n",
    "- 넘파이 배열은 (대부분 다른 라이브러리도) 가변 길이 문자열을 지원하지 않음"
   ]
  },
  {
   "cell_type": "code",
   "execution_count": null,
   "id": "987f18e9",
   "metadata": {},
   "outputs": [],
   "source": [
    "#### 참고 : 크기 확인"
   ]
  },
  {
   "cell_type": "code",
   "execution_count": 11,
   "id": "198c1033",
   "metadata": {},
   "outputs": [
    {
     "data": {
      "text/plain": [
       "()"
      ]
     },
     "execution_count": 11,
     "metadata": {},
     "output_type": "execute_result"
    }
   ],
   "source": [
    "s.shape # 0D 텐서 : 스칼라 크기"
   ]
  },
  {
   "cell_type": "code",
   "execution_count": 12,
   "id": "26cad60c",
   "metadata": {},
   "outputs": [
    {
     "data": {
      "text/plain": [
       "(5,)"
      ]
     },
     "execution_count": 12,
     "metadata": {},
     "output_type": "execute_result"
    }
   ],
   "source": [
    "v.shape # 1D 텐서 : 벡터 크기"
   ]
  },
  {
   "cell_type": "code",
   "execution_count": 13,
   "id": "dff829d5",
   "metadata": {},
   "outputs": [
    {
     "data": {
      "text/plain": [
       "(3, 5)"
      ]
     },
     "execution_count": 13,
     "metadata": {},
     "output_type": "execute_result"
    }
   ],
   "source": [
    "m.shape # 2D 텐서 : 행렬 크기"
   ]
  },
  {
   "cell_type": "code",
   "execution_count": 14,
   "id": "2088d4e8",
   "metadata": {},
   "outputs": [
    {
     "data": {
      "text/plain": [
       "(3, 3, 5)"
      ]
     },
     "execution_count": 14,
     "metadata": {},
     "output_type": "execute_result"
    }
   ],
   "source": [
    "x.shape # 3D 텐서 크기"
   ]
  },
  {
   "cell_type": "markdown",
   "id": "f1c8f24a",
   "metadata": {},
   "source": [
    "배치 데이터\n",
    "- 딥러닝 모델은 한 번에 전체 데이터세을 처리하지 않고\n",
    "- 데이터를 작은 배치(batch)로 나누어 처리\n",
    "- MNIST 예제에서는 숫자 이미지가 샘플임\n",
    "\n",
    "예 : MNIST 숫자 데이터에서 크기가 128인 배치 하나\n",
    "batch = train_images[:128]\n",
    "다음 배치 : train_images[128:256]\n",
    "    ..."
   ]
  },
  {
   "cell_type": "markdown",
   "id": "b7dfffd4",
   "metadata": {},
   "source": [
    "텐서 데이터 예\n",
    "\n",
    "벡터 데이터 : (samples, features) 크기의 2D 텐서\n",
    "시계열 데이터 또는 시퀀스 데이터\n",
    "- (samples, features, timestems) 크기의 3D 텐서\n",
    "이미지 데이터 : (samples, height, width, channels) 크기의 4D 텐서\n",
    "동영상 데이터: (samples, frames, height, width, channels) 크기의 5D 텐서"
   ]
  },
  {
   "cell_type": "markdown",
   "id": "c5f2f485",
   "metadata": {},
   "source": [
    "벡터 데이터 : 대부분의 경우에 해당\n",
    "- 데이터셋에서는 하나의 데이터 포인트가 벡터로 인코딩 될 수 있으므로\n",
    "- 배치 데이터는 2D 텐서로 인코딩됨 (즉, 벡터의 배열)\n",
    "- 첫 번째 축은 샘플 축\n",
    "- 두 번째 축은 특성 축(feature axis)\n",
    "\n",
    "예1 : 사람의 나이, 우편 번호, 소득으로 구성된 인구 통계 데이터\n",
    "    - 각 개인은 3개의 갓을 가진 벡터로 구성된 \n",
    "    - 10만명이 포함된 전체 데이터셋은 (100000, 3) 크기의 텐서에 저장될 수 있음\n",
    "    \n",
    "예2 : 공통 단어 2만개로 만든 사전\n",
    "    - 각 단어가 등장한 횟수로 표현된 텍스트 문서 데이터셋\n",
    "    - 각 문서는 2만 개의 원소를 가진 벡터로 인코딩될 수 있음\n",
    "    - (사전에 있는 단어마다 하나의 원소에 대응됨)\n",
    "    - 500개의 문서로 이루어진 전체 데이터셋은 (500, 20000) 크기의 텐서로 저장됨    "
   ]
  },
  {
   "cell_type": "markdown",
   "id": "2bb3a69e",
   "metadata": {},
   "source": [
    "시계열 데이터 또는 시퀀스 데이터\n",
    "- 데이터에 시간이(또는 연속된 순서) 중요할 때는\n",
    "- 시간 축을 포함하여 3D 텐서로 저장됨\n",
    "- 각 샘플은 벡터(2D 텐서)의 시퀀스로 인코딩되어\n",
    "- 배치 데이터는 3D 텐서로 인코딩됨\n",
    "- 관례적으로 시간 축은 항상 두 번째 축(인덱스 1인 축)\n",
    "\n",
    "예1 : 주식 가격 데이터셋\n",
    "- 1분마다 현재 주식 가격, 지난 1분 동안의 최고 가겨과 최소 가격 등을 저장\n",
    "- 1분마다 데이터는 3D 벡터로 인코딩되고\n",
    "- 하루 동안의 거래는(390, 3)크기의 2D 텐서로 인코딩됨\n",
    "- (하루의 거래 시간을 390분으로 한 경우)\n",
    "- 250일치의 데이터(250, 390, 3) 크기의 3D 텐서로 저장될 수 있음\n",
    "- 1일치 데이터가 하나의 샘플이 됨\n",
    "\n",
    "예2 : 트윗 데이터셋\n",
    "- 각 트윗은 128개의 알파벳으로 구성된 280개의 문자 시퀀스인데\n",
    "- 각 문자가 128개의 크기인 이진 벡터로 인코딩될 수 있음\n",
    "- (해당 문자의 인덱스만 1이고 나머지는 모두 0인 벡터)\n",
    "- 그러면 각 트윗은 (280, 128) 크기의 2D 텐서로 인코딩될 수 있음\n",
    "- 100만 개의 트윗으로 구성된 데이터셋은\n",
    "- (1000000, 280, 128) 크기의 텐서에 저장됨"
   ]
  },
  {
   "cell_type": "code",
   "execution_count": null,
   "id": "333c5ffa",
   "metadata": {},
   "outputs": [],
   "source": [
    "이미지 데이터 : (samples, height, width, channels) 크기의 4D 텐서\n",
    "- 이미지는 전형적으로 높이, 너비, 컬러 채널의 3차원으로 이루어짐\n",
    "- (MNIST 숫자처럼) 흑백 이미지는 하나의 컬러 채널만을 가지고 있어서\n",
    "- 2D 텐서로 저장될 수 있지만\n",
    "- 관례상 이미지 텐서는 항상 3D 텐서로 저장됨\n",
    "- 흑백 이미지의 경우 컬러 채널의 차원 크기는 1임\n",
    "- 256x256 크기의 흑백 이지에 대한 128개의 배치는\n",
    "- (128, 256, 256, 1) 크기의 4D 텐서에 저장될 수 있음\n",
    "- 컬러 이미지에 대한 128개의 배치인 경우\n",
    "- (128, 256, 256, 3) 크기의 4D 텐서에 저장될 수 있음\n",
    "\n",
    "이미지 텐서의 크기를 지정하는 2가지 방식\n",
    "(1) 채널 마지막(channel-last) 방식 : 텐서플로에서 사용\n",
    "    - (samples, height, width, color_depth) 순서\n",
    "    - 컬러 채널의 깊이를 끝에 놓음\n",
    "(2) 채널 우선(channel-first) 방식 : 씨아노에서 사용\n",
    "    - (samples, color_depth, height, width) 순서\n",
    "    - 컬러 채널의 깊이를 배치 축 바로 뒤에 놓음\n",
    "    - (128, 1, 256, 256)과 (128, 3, 256, 256)\n",
    "    \n",
    "- 케라스 프레임워크는 두 형식을 모두 지원"
   ]
  },
  {
   "cell_type": "code",
   "execution_count": null,
   "id": "5ee7ba3b",
   "metadata": {},
   "outputs": [],
   "source": [
    "비디오 데이터\n",
    "- 현실에서 5D 텐서가 필요한 몇 안 되는 데이터 중 하나임\n",
    "- 하나의 비디오는 프레임의 연속이고\n",
    "- 각 프레임은 하나의 컬러 이미지임\n",
    "- 프레임이 (height, width, color_depth)의 3D 텐서로 저장될 수 있기 때문에\n",
    "- 프레임의 연속은 (frames, height, width, color_depth)의 4D 텐서로 저장될 수 있음\n",
    "- 여러 비디오 배치는\n",
    "- (samples, frames, height, width, color_depth)의 5D 텐서로 저장될 수 있음\n",
    "\n",
    "비디오 데이터 예\n",
    "- 60초짜리 144x256 유투브 비디오 클립을\n",
    "- 초당 4프레임으로 샘플링하면 240 프레임이 됨\n",
    "- 이런 비디오 클립을 4개진 배치는\n",
    "- (4, 240, 144, 256, 3) 크기의 5D 텐서에 저장됨\n",
    "- 총 106,168,320개의 값이 있음\n",
    "- 이 텐서의 dtype을 float32로 했다면\n",
    "- 각 값이 32비트로 저장될 것이므로\n",
    "- 텐서의 저장 크기는 405MB가 됨 (매우 큼!)\n",
    "- 실생활에서 접하는 비디오는 float32로 저장되지 않기 때문에 훨씬 용량이 적음\n",
    "- 일반적으로 높은 압축율로 압축되어 있음 (MPEG 포맷 같은 방식 사용)"
   ]
  },
  {
   "cell_type": "markdown",
   "id": "00b73b7c",
   "metadata": {},
   "source": [
    "### 케라스"
   ]
  },
  {
   "cell_type": "code",
   "execution_count": null,
   "id": "8e8e2767",
   "metadata": {},
   "outputs": [],
   "source": [
    "케라스\n",
    "- 거의 모든 종류의 딥러닝 모델을 간편하게 만들고 훈련시킬 수 있는\n",
    "- 파이썬을 위한 딥러닝 프레임워크"
   ]
  },
  {
   "cell_type": "code",
   "execution_count": null,
   "id": "2729e14d",
   "metadata": {},
   "outputs": [],
   "source": [
    "케라스 특징\n",
    "- 동일한 코드로 CPU와 GPU에서 실행할 수 있음\n",
    "- (컴퓨터 비전을 위한) 합성곱 신경망, (시퀀스 처리를 위한) 순환 신경망을 지원하며\n",
    "- 이 둘을 자유롭게 조합하여 사용할 수 있음\n",
    "- 다중 입력이나 다중 출력 모데, 층의 공유, 모델 공유 등 어떤 네트워크(모델) 구조도 만들 수 있음\n",
    "- 이 말은 적대적 생성 신경망(Generative Adversarial Network, GAN)부터\n",
    "- 뉴럴 튜링 머신까 기본적으로 어떤 딥러닝 모델에도 적합하다는 뜻\n",
    "- MIT 라이선을 따라서 상업적인 프로젝트에도 자유롭게 사용 가능\n",
    "- 학술적인 연구원, 스타업과 대기업의 기술자, 대학원생, 아마추어 연구자까지\n",
    "- 구글, 넷플릭스, 우서, 엘프, 스퀘어 , 다양한 분의 스타트업 수백 개가 케라스 이용\n",
    "- 머신러닝 경연 웹 사이트인 캐글(Kaggle)에서도 케라스 인기가 높음\n",
    "- 최그 거의 모든 딥러닝 경연 대회의 우승자들이 케라스 모델을 사용하고 있음\n",
    "- 딥러닝 모델을 만들기 위한 고수준의 구성요소를 제공하는 모델 수준의 라이브러리로\n",
    "- 케라스의 백엔드 엔지(backend engine)에서 제공하는 최적화되고 특화된 텐서 라이브러리 사용\n",
    "- 개발하는 중간에 백엔드가 특정 작업에 빠르다고 판단되면\n",
    "- 언제든지 백엔드를 바꿀 수 있어서 아주 유용함\n",
    "- 가장 널리 사용되고 확장서이 뛰어나며 상용 제품에도 사용할 수 있기 때문에\n",
    "- 대부분의 딥러닝 작업에 텐서플로 백엔드가 기본으로 권장됨"
   ]
  },
  {
   "cell_type": "code",
   "execution_count": null,
   "id": "d73b08fe",
   "metadata": {},
   "outputs": [],
   "source": [
    "텐서플로를 사용하기 때문에 CPU와 GPU에서 모두 작동 가능\n",
    "\n",
    "CPU에서 실행될 때 텐서플로 \n",
    "- 저수준 텐서 연산 라이브러리 이용\n",
    "\n",
    "CPU에서는\n",
    "- NVIDIA CUDA 심층 신경망 라이브러리(cuDNN)라고 불리는\n",
    "- 고도로 최적화된 딥러닝 연산 라이브러리 이용"
   ]
  },
  {
   "cell_type": "code",
   "execution_count": null,
   "id": "fea1f30a",
   "metadata": {},
   "outputs": [],
   "source": [
    "전형적인 케라스 작업 흐름\n",
    "(1) 입력 텐서와 타깃 텐서로 이루어진 훈련 데이터 정의\n",
    "(2) 입력과 타깃을 매핑하는 층으로 이루어진 네트워크(모델) 정의\n",
    "(3) 손실 함수, 옵티마이저, 모니터링하기 위한 측정 지표 선택하여 학습 과정 설정 (Compile)\n",
    "(4) 훈련 데이터에 대해 모델의 fit() 메서드를 이용해서 반복적으로 호출"
   ]
  },
  {
   "cell_type": "code",
   "execution_count": null,
   "id": "f261b2b4",
   "metadata": {},
   "outputs": [],
   "source": [
    "모델을 정의하는 2가지 방법\n",
    "(1) Sequential 클래스 사용\n",
    "- 가장 많이 사용하는 구조로 층을 순서대로 쌓아 올리 네트워크 구조\n",
    "(2) 함수형 API 사용\n",
    "- 완전한 임의 구조를 만들 수 있는 비 순환 그래프 작성"
   ]
  },
  {
   "attachments": {
    "image.png": {
     "image/png": "[encoded data removed]"
    }
   },
   "cell_type": "markdown",
   "id": "457b7467",
   "metadata": {},
   "source": [
    "![image.png](attachment:image.png)"
   ]
  },
  {
   "attachments": {
    "image.png": {
     "image/png": "[encoded data removed]"
    }
   },
   "cell_type": "markdown",
   "id": "ce3bd1ff",
   "metadata": {},
   "source": [
    "![image.png](attachment:image.png)"
   ]
  },
  {
   "cell_type": "markdown",
   "id": "461fb04f",
   "metadata": {},
   "source": [
    "### 딥러닝 컴퓨터 셋팅"
   ]
  },
  {
   "cell_type": "code",
   "execution_count": null,
   "id": "05a4e020",
   "metadata": {},
   "outputs": [],
   "source": [
    "딥러닝 컴퓨터 셋팅\n",
    "- 필수는 아니지만 최신 NVIDIA GPU에서 딥러닝 코드를 실행하는 것 권장\n",
    "- 합성곱 신경망을 사용한 이미지 처리나 순환 신경망을 사용한 시퀀스 처리 같은\n",
    "- 일부 애플리케이션을 CPU에서 실행하면 아주 빠른 멀티코어 CPU라도 시간이 매우 오래 경우가 있음\n",
    "- 최신 GUP를 사용하면 CUP 보다 2~5배 또는 10배 정도 속도가 빨라짐\n",
    "\n",
    "- 대안 AWS EC2 GPU 인스턴스나 구글 클라우드 플랫폼을 고려할 수 있음\n",
    "- 과금되는 점 유의\n",
    "\n",
    "- 로컬 컴퓨터를 셋팅하는 클라우드를 사용하는지 상관없이\n",
    "- 유닉스(리눅스) 운영체제 사용하는 것이 좋음\n",
    "\n",
    "- 기술적으로 윈도에서 케라스를 사용할 수 있지만\n",
    "- 백엔드 모두 지원하지 않기 때문에 권장하지는 않음\n",
    "\n",
    "- 케라스를 사용하려면 백엔드를 서로 바꾸어 가벼 작업 가능 \n",
    "- 벡엔드 모두 설행 : 텐서플로, CNTK, 씨아노"
   ]
  },
  {
   "cell_type": "code",
   "execution_count": null,
   "id": "aef77665",
   "metadata": {},
   "outputs": [],
   "source": []
  },
  {
   "cell_type": "code",
   "execution_count": null,
   "id": "217897ef",
   "metadata": {},
   "outputs": [],
   "source": []
  },
  {
   "cell_type": "code",
   "execution_count": null,
   "id": "633e9b74",
   "metadata": {},
   "outputs": [],
   "source": []
  },
  {
   "cell_type": "code",
   "execution_count": null,
   "id": "f889f421",
   "metadata": {},
   "outputs": [],
   "source": []
  },
  {
   "cell_type": "code",
   "execution_count": null,
   "id": "34b6fa8b",
   "metadata": {},
   "outputs": [],
   "source": []
  },
  {
   "cell_type": "code",
   "execution_count": null,
   "id": "2696e0c1",
   "metadata": {},
   "outputs": [],
   "source": []
  },
  {
   "cell_type": "code",
   "execution_count": null,
   "id": "be760256",
   "metadata": {},
   "outputs": [],
   "source": []
  }
 ],
 "metadata": {
  "kernelspec": {
   "display_name": "HKD_ENV",
   "language": "python",
   "name": "hkdenv"
  },
  "language_info": {
   "codemirror_mode": {
    "name": "ipython",
    "version": 3
   },
   "file_extension": ".py",
   "mimetype": "text/x-python",
   "name": "python",
   "nbconvert_exporter": "python",
   "pygments_lexer": "ipython3",
   "version": "3.7.11"
  }
 },
 "nbformat": 4,
 "nbformat_minor": 5
}
