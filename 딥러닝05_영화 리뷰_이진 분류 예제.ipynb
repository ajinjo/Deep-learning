{
 "cells": [
  {
   "cell_type": "markdown",
   "id": "d9d2c003",
   "metadata": {},
   "source": [
    "## 영화 리뷰 : 이진 분류 예제"
   ]
  },
  {
   "cell_type": "markdown",
   "id": "634bbb09",
   "metadata": {},
   "source": [
    "리뷰 텍스트를 기반으로 영화 리뷰를 긍정과 부정으로 분류하는 예제"
   ]
  },
  {
   "cell_type": "markdown",
   "id": "5281b336",
   "metadata": {},
   "source": [
    "IMDB(Internet Movie Database) 데이터 셋\n",
    "- 인터넷 영화 데이터베이스(IMDB)로부터 가져온\n",
    "- 양극단의 리뷰 50,000개로 이루어진 데이터 셋 사용\n",
    "\n",
    "- 훈련 데이터25,000개와 테스트 데이터 25,000개로 나뉘어 있고\n",
    "- 각각 50%는 부정, 50%는 긍정 리규로 구성되어 있음\n",
    "\n",
    "- 케라스 데이터 셋에 포함되어 있고\n",
    "- 전처리 되어 있음 : 각 리뷰(단어 시퀀스)가 숫자 시퀀스로 변환되어 있음\n",
    "- 각 숫자는 사전에 있는 고유한 단어를 나타냄\n",
    "\n",
    "어휘 사전(사전)\n",
    "- 모든 단어에 고유한 번호 부여\n",
    "- 텍스트 데이터를 다룰 때 기본적으로 수행하는 전처리 과정"
   ]
  },
  {
   "cell_type": "code",
   "execution_count": 8,
   "id": "5ee1e29c",
   "metadata": {},
   "outputs": [],
   "source": [
    "# 데이터 셋 로드\n",
    "# 처음 실행하면 17MB 정도의 데이터가 다운로드 됨\n",
    "\n",
    "from keras.datasets import imdb\n",
    "import warnings\n",
    "warnings.filterwarnings('ignore')\n",
    "\n",
    "(train_data, train_labels), (test_data, test_labels) = imdb.load_data(num_words=10000)\n",
    "# train_data, train_labels, test_data, test_labels = imdb.load_data(num_words=10000) # 괄호 없으면 오류\n",
    "\n",
    "# num_words=10000\n",
    "# 훈련 데이터에서 가장 자주 나타나는 단어 10,000개만 사용하겠다는 의미\n",
    "# 드물게 나타나는 단어는 무시\n",
    "# 이렇게 하면 적절한 크기의 벡터 데이터를 얻을 수 있음"
   ]
  },
  {
   "cell_type": "code",
   "execution_count": null,
   "id": "c037f114",
   "metadata": {},
   "outputs": [],
   "source": [
    "train_data / test_data : 리뷰 목록\n",
    "- 각 리뷰는 단어 인덱스의 리스트\n",
    "- 단어 시퀀스가 인코딩된 것\n",
    "\n",
    "train_labels / test_labels (레이블 값)\n",
    "- 0 : 부정\n",
    "- 1 : 긍정"
   ]
  },
  {
   "cell_type": "code",
   "execution_count": 9,
   "id": "5e16d65d",
   "metadata": {},
   "outputs": [
    {
     "data": {
      "text/plain": [
       "(25000,)"
      ]
     },
     "execution_count": 9,
     "metadata": {},
     "output_type": "execute_result"
    }
   ],
   "source": [
    "train_data.shape"
   ]
  },
  {
   "cell_type": "code",
   "execution_count": 10,
   "id": "9ad83302",
   "metadata": {},
   "outputs": [
    {
     "data": {
      "text/plain": [
       "(25000,)"
      ]
     },
     "execution_count": 10,
     "metadata": {},
     "output_type": "execute_result"
    }
   ],
   "source": [
    "test_data.shape"
   ]
  },
  {
   "cell_type": "code",
   "execution_count": 4,
   "id": "7ebd7c21",
   "metadata": {},
   "outputs": [
    {
     "data": {
      "text/plain": [
       "array([1, 0, 0, ..., 0, 1, 0])"
      ]
     },
     "execution_count": 4,
     "metadata": {},
     "output_type": "execute_result"
    }
   ],
   "source": [
    "train_labels"
   ]
  },
  {
   "cell_type": "code",
   "execution_count": 5,
   "id": "d03d364f",
   "metadata": {},
   "outputs": [
    {
     "data": {
      "text/plain": [
       "array([0, 1, 1, ..., 0, 0, 0])"
      ]
     },
     "execution_count": 5,
     "metadata": {},
     "output_type": "execute_result"
    }
   ],
   "source": [
    "test_labels"
   ]
  },
  {
   "cell_type": "code",
   "execution_count": 11,
   "id": "64dbf9b3",
   "metadata": {},
   "outputs": [
    {
     "data": {
      "text/plain": [
       "9999"
      ]
     },
     "execution_count": 11,
     "metadata": {},
     "output_type": "execute_result"
    }
   ],
   "source": [
    "# num_words=10000\n",
    "# 가장 자주 등장하는 단어 10,000개로 제한했기 때문에\n",
    "# 단어 인덱스는 10,000을 넘지 않음\n",
    "max([max(sequence) for sequence in train_data])"
   ]
  },
  {
   "cell_type": "code",
   "execution_count": null,
   "id": "f690a5d7",
   "metadata": {},
   "outputs": [],
   "source": [
    "데이터 준비\n",
    "- 신경망에서 숫자 리스트를 주입할 수 없음\n",
    "- 리스트를 텐서로 변환해야 함\n",
    "\n",
    "(1) 같은 길이가 되도록 리스트에 패딩 추가하고 '(samples, sequence_length)' 크기의 정수 텐서로 변환\n",
    "\n",
    "(2) 리스트를 원-핫 인코딩하여 0과 1의 벡터로 변환 : 이 방법 사용"
   ]
  },
  {
   "cell_type": "code",
   "execution_count": 16,
   "id": "29ea3942",
   "metadata": {},
   "outputs": [],
   "source": [
    "# 원-핫 인코딩 사용해서 리스트를 변환\n",
    "\n",
    "import numpy as np\n",
    "\n",
    "def vectorize_sequence(sequences, dimension=10000):\n",
    "    # 크기가 (len(sequences), dimension)이고 모둔 원소가 0인 행렬 생성\n",
    "    # (25000, 10000)\n",
    "    results = np.zeros((len(sequences), dimension)) # 모두 0으로 채움\n",
    "    for i, sequence in enumerate(sequences):\n",
    "        results[i, sequence] = 1.    # results[i]에서 특정 인덱스의 위치를 1로 만듦\n",
    "        \n",
    "    return results\n",
    "\n",
    "# 훈련 데이터를 벡터로 변환\n",
    "x_train = vectorize_sequence(train_data)\n",
    "\n",
    "# 테스트 데이터를 벡터로 변환\n",
    "x_test = vectorize_sequence(test_data)"
   ]
  },
  {
   "cell_type": "code",
   "execution_count": 17,
   "id": "c653d19b",
   "metadata": {},
   "outputs": [
    {
     "data": {
      "text/plain": [
       "array([[0., 1., 1., ..., 0., 0., 0.],\n",
       "       [0., 1., 1., ..., 0., 0., 0.],\n",
       "       [0., 1., 1., ..., 0., 0., 0.],\n",
       "       ...,\n",
       "       [0., 1., 1., ..., 0., 0., 0.],\n",
       "       [0., 1., 1., ..., 0., 0., 0.],\n",
       "       [0., 1., 1., ..., 0., 0., 0.]])"
      ]
     },
     "execution_count": 17,
     "metadata": {},
     "output_type": "execute_result"
    }
   ],
   "source": [
    "x_train"
   ]
  },
  {
   "cell_type": "code",
   "execution_count": 18,
   "id": "8ce64a56",
   "metadata": {},
   "outputs": [
    {
     "data": {
      "text/plain": [
       "array([[0., 1., 1., ..., 0., 0., 0.],\n",
       "       [0., 1., 1., ..., 0., 0., 0.],\n",
       "       [0., 1., 1., ..., 0., 0., 0.],\n",
       "       ...,\n",
       "       [0., 1., 1., ..., 0., 0., 0.],\n",
       "       [0., 1., 1., ..., 0., 0., 0.],\n",
       "       [0., 1., 1., ..., 0., 0., 0.]])"
      ]
     },
     "execution_count": 18,
     "metadata": {},
     "output_type": "execute_result"
    }
   ],
   "source": [
    "x_test"
   ]
  },
  {
   "cell_type": "code",
   "execution_count": 19,
   "id": "ea9e0b25",
   "metadata": {},
   "outputs": [
    {
     "data": {
      "text/plain": [
       "array([1, 0, 0, ..., 0, 1, 0])"
      ]
     },
     "execution_count": 19,
     "metadata": {},
     "output_type": "execute_result"
    }
   ],
   "source": [
    "train_labels"
   ]
  },
  {
   "cell_type": "code",
   "execution_count": 20,
   "id": "251114c3",
   "metadata": {},
   "outputs": [],
   "source": [
    "# 레이블을 float32 형으로 변한\n",
    "y_train = np.asarray(train_labels).astype('float32')\n",
    "y_test = np.asarray(test_labels).astype('float32')"
   ]
  },
  {
   "cell_type": "code",
   "execution_count": null,
   "id": "3bd13f45",
   "metadata": {},
   "outputs": [],
   "source": [
    "# 신경망에 사용할 데이터 준비 끝"
   ]
  },
  {
   "cell_type": "code",
   "execution_count": null,
   "id": "0622ead6",
   "metadata": {},
   "outputs": [],
   "source": [
    "신경망 모델 만드는 작업 순서\n",
    "(1) 모델 설정\n",
    "(2) 모델 컴파일\n",
    "(3) 모델 실행(학습)\n",
    "(4) 모델 평가 (결과 출력)"
   ]
  },
  {
   "cell_type": "markdown",
   "id": "1c9e79dd",
   "metadata": {},
   "source": [
    "(1) 모델 설정\n",
    "- 입력 데이터가 벡터이고 레이블은 스칼라(1 또는 0) : 데이터 간단하게 생겼음\n",
    "- 이런 문제에 잘 작동하는 네트워크 종류는 'relu' 활성화 함수를 사용한 완전 연결 층\n",
    "- 별다른 문제 층을 쌓은 것\n",
    "- Dense(16, actiation='relu')\n",
    "\n",
    "- Dense 층에 전달한 매개변수(16)은 은닉 유닛의 개수\n",
    "- 하나의 은닉 유닛은 층이 나타내는 표현 공간에서 하나의 차원이 됨\n",
    "\n",
    "- 16개의 은닉 유닛이 있다는 것은\n",
    "- 가중치 행렬의 크기가 16이라는 뜻\n",
    "- 그리고 편향 벡터 'b'를 더하고 'relu' 연산을 적용합니다\n",
    "\n",
    "- 은닉 유닛을 늘리면 (표현 공간 더 고차원으로 만들면)\n",
    "- 신경망이 더 복잡한 표현을 학습할 수 있지만\n",
    "- 계산 비용이 커지고 원치 않는 패턴을 학습할 수도 있음\n",
    "\n",
    "- Dense 층을 쌓을 때 두 가지 중요한 구조상의 결정이 필요\n",
    "- 얼마나 많은 층을 사용할 것인가\n",
    "- 각 층에 얼마나 많은 은닉 유닛을 둘 것인가\n"
   ]
  },
  {
   "cell_type": "code",
   "execution_count": 59,
   "id": "b1bc334e",
   "metadata": {},
   "outputs": [],
   "source": [
    "# (1) 모델 설정\n",
    "\n",
    "from tensorflow.keras.models import Sequential\n",
    "from tensorflow.keras.layers import Dense\n",
    "import tensorflow as tf\n",
    "\n",
    "tf.random.set_seed(3)\n",
    "\n",
    "model = Sequential()\n",
    "model.add(Dense(16, activation='relu', input_shape=(10000,)))\n",
    "model.add(Dense(16, activation='relu'))\n",
    "model.add(Dense(1, activation='sigmoid'))\n",
    "\n",
    "# 중간의 은닉층은 활성화 함수로 'relu' 사용\n",
    "# - 음수는 0으로 만듦\n",
    "\n",
    "# 마지막 층은 확률을 출력하기 위해 시그모이드 활성화 함수 사용\n",
    "# - 0과 1사이의 점수로\n",
    "# - 어떤 샘플이 타식 1일 가능성이 높다는 것은\n",
    "# - 글 리뷰가 긍정일 가능성이 높다는 것을 의미"
   ]
  },
  {
   "cell_type": "code",
   "execution_count": null,
   "id": "853c9ce3",
   "metadata": {},
   "outputs": [],
   "source": [
    "(2) 모델 컴파일\n",
    "\n",
    "손실 함수와 옵티마이저 선택\n",
    "\n",
    "손실 함수\n",
    "- 이진 분류 문제이고 신경망의 출력이 확률이기 때문에\n",
    "- (네트워크(모델) 끝에 시그모이드 활성화 함수를 사용한 하나의 유닛으로 된 층을 두었음)\n",
    "- binary_crossentropy 손실 함수가 적합\n",
    "- 이 함수가 유일한 선택은 아니고 mean_sqard_eroor를 사용할 수도 있음\n",
    "- 확률을 출력하는 모델을 사용할 때는 크로스엔트로피가 최선의 선택\n",
    "- 크로스엔트로피는 정보 이론 분야에서 온 개념으로 확률 분포 간의 차이를 측정\n",
    "- 여기에서는 원본 분포와 예측 분포 사이를 측정\n",
    "\n",
    "옵티마이저\n",
    "- optimizer='rmsprop'\n",
    "- 옵티마이저 매개변수 변경 시 : optimizer=optimizers.RMSprop(lr=0.001)\n",
    "- 자신만의 손실 함수를 전달할 경우\n",
    "- 옵티마이저 파이썬 클래스를 사용해 객체를 직접 만들어\n",
    "- optimizer 매개변수에 전달하면됨"
   ]
  },
  {
   "cell_type": "code",
   "execution_count": 60,
   "id": "2882d846",
   "metadata": {},
   "outputs": [],
   "source": [
    "# (2) 모델 컴파일\n",
    "# 손실 함수와 옵티마이저 선택해서 모델을 설정하는 단계\n",
    "# 'rmsprop' 옵티마이저와\n",
    "# binary_crossentropy 손실 함수 선택\n",
    "\n",
    "from tensorflow.keras import optimizers\n",
    "\n",
    "# model.compile(optimizer='rmsprop',\n",
    "model.compile(optimizer=optimizers.RMSprop(lr=0.001),\n",
    "             loss='binary_crossentropy',\n",
    "             metrics=['accuracy'])"
   ]
  },
  {
   "cell_type": "markdown",
   "id": "18ca1fbf",
   "metadata": {},
   "source": [
    "###  훈련 검증"
   ]
  },
  {
   "cell_type": "code",
   "execution_count": null,
   "id": "96d7c718",
   "metadata": {},
   "outputs": [],
   "source": [
    "검증 데이터 셋 생성\n",
    "- 훈련하는 동안 처음 본 데이터에 대한 모델의 정확도를 측정하기 위해\n",
    "- 원본 훈련 데이터에서 10,000의 샘플을 떼어서 검증 데이터 셋으로 생성"
   ]
  },
  {
   "cell_type": "code",
   "execution_count": 30,
   "id": "b7849553",
   "metadata": {},
   "outputs": [],
   "source": [
    "x_val = x_train[:10000]\n",
    "partial_x_train = x_train[10000:]\n",
    "\n",
    "y_val = y_train[:10000]\n",
    "partial_y_train = y_train[10000:]"
   ]
  },
  {
   "cell_type": "markdown",
   "id": "66925c5d",
   "metadata": {},
   "source": [
    "(3) 모델 실행(학습)\n",
    "- 모델을 512개 샘플씩 미니 배치를 만들어 20번 에포크 동안 훈련\n",
    "- x_train과 y_train 텐서에 있는 모든 샘플에 대해 20번 반복\n",
    "- 동시에 따로 분리해 높은 10,000개의 샘플에서 손실과 정확도 측정\n",
    "- validation_data 매개변수에 검증 데이터 전달"
   ]
  },
  {
   "cell_type": "code",
   "execution_count": 61,
   "id": "81dfc7a9",
   "metadata": {},
   "outputs": [
    {
     "name": "stdout",
     "output_type": "stream",
     "text": [
      "Epoch 1/20\n",
      "30/30 [==============================] - 2s 45ms/step - loss: 0.5805 - accuracy: 0.7119 - val_loss: 0.3853 - val_accuracy: 0.8607\n",
      "Epoch 2/20\n",
      "30/30 [==============================] - 1s 28ms/step - loss: 0.3192 - accuracy: 0.9042 - val_loss: 0.3229 - val_accuracy: 0.8758\n",
      "Epoch 3/20\n",
      "30/30 [==============================] - 1s 29ms/step - loss: 0.2270 - accuracy: 0.9282 - val_loss: 0.3136 - val_accuracy: 0.8709\n",
      "Epoch 4/20\n",
      "30/30 [==============================] - 1s 25ms/step - loss: 0.1777 - accuracy: 0.9458 - val_loss: 0.2813 - val_accuracy: 0.8867\n",
      "Epoch 5/20\n",
      "30/30 [==============================] - 1s 26ms/step - loss: 0.1405 - accuracy: 0.9567 - val_loss: 0.2816 - val_accuracy: 0.8856\n",
      "Epoch 6/20\n",
      "30/30 [==============================] - 1s 29ms/step - loss: 0.1165 - accuracy: 0.9674 - val_loss: 0.2946 - val_accuracy: 0.8843\n",
      "Epoch 7/20\n",
      "30/30 [==============================] - 1s 23ms/step - loss: 0.0964 - accuracy: 0.9718 - val_loss: 0.3084 - val_accuracy: 0.8823\n",
      "Epoch 8/20\n",
      "30/30 [==============================] - 1s 30ms/step - loss: 0.0820 - accuracy: 0.9777 - val_loss: 0.3366 - val_accuracy: 0.8798\n",
      "Epoch 9/20\n",
      "30/30 [==============================] - 1s 28ms/step - loss: 0.0623 - accuracy: 0.9848 - val_loss: 0.3668 - val_accuracy: 0.8715\n",
      "Epoch 10/20\n",
      "30/30 [==============================] - 1s 27ms/step - loss: 0.0557 - accuracy: 0.9875 - val_loss: 0.3730 - val_accuracy: 0.8784\n",
      "Epoch 11/20\n",
      "30/30 [==============================] - 1s 26ms/step - loss: 0.0451 - accuracy: 0.9893 - val_loss: 0.3988 - val_accuracy: 0.8769\n",
      "Epoch 12/20\n",
      "30/30 [==============================] - 1s 30ms/step - loss: 0.0354 - accuracy: 0.9932 - val_loss: 0.4494 - val_accuracy: 0.8670\n",
      "Epoch 13/20\n",
      "30/30 [==============================] - 1s 28ms/step - loss: 0.0276 - accuracy: 0.9954 - val_loss: 0.4581 - val_accuracy: 0.8733\n",
      "Epoch 14/20\n",
      "30/30 [==============================] - 1s 29ms/step - loss: 0.0221 - accuracy: 0.9970 - val_loss: 0.4889 - val_accuracy: 0.8709\n",
      "Epoch 15/20\n",
      "30/30 [==============================] - 1s 26ms/step - loss: 0.0174 - accuracy: 0.9978 - val_loss: 0.5191 - val_accuracy: 0.8703\n",
      "Epoch 16/20\n",
      "30/30 [==============================] - 1s 28ms/step - loss: 0.0128 - accuracy: 0.9994 - val_loss: 0.5446 - val_accuracy: 0.8693\n",
      "Epoch 17/20\n",
      "30/30 [==============================] - 1s 31ms/step - loss: 0.0133 - accuracy: 0.9983 - val_loss: 0.5777 - val_accuracy: 0.8670\n",
      "Epoch 18/20\n",
      "30/30 [==============================] - 1s 29ms/step - loss: 0.0092 - accuracy: 0.9991 - val_loss: 0.6322 - val_accuracy: 0.8630\n",
      "Epoch 19/20\n",
      "30/30 [==============================] - 1s 26ms/step - loss: 0.0076 - accuracy: 0.9994 - val_loss: 0.6516 - val_accuracy: 0.8654\n",
      "Epoch 20/20\n",
      "30/30 [==============================] - 1s 27ms/step - loss: 0.0057 - accuracy: 0.9996 - val_loss: 0.6774 - val_accuracy: 0.8661\n"
     ]
    }
   ],
   "source": [
    "# (3) 모델 실행(학습)\n",
    "# Matplotlib을 사용해 훈련과 검증 데이터에 대한 손실과 정확도를 시각화하기 위해\n",
    "# model.fit() 메서드 반환하는 History 객체 생성\n",
    "# 이 객체에는 훈련하는 동안 발생한 모든 정보를 가지고 있음\n",
    "# 딕셔너리 형태의 history 속성을 가지고 있음\n",
    "\n",
    "history = model.fit(partial_x_train, \n",
    "                   partial_y_train,\n",
    "                   epochs=20,\n",
    "                   batch_size=512,\n",
    "                   validation_data=(x_val, y_val))\n",
    "\n",
    "# loss, accuracy, val_loss,  val_accuracy\n",
    "# 훈련 손실, 훈련 정확도, 검증 손실, 검증 정확도"
   ]
  },
  {
   "cell_type": "code",
   "execution_count": 33,
   "id": "e3c1cdf6",
   "metadata": {},
   "outputs": [
    {
     "data": {
      "text/plain": [
       "dict_keys(['loss', 'accuracy', 'val_loss', 'val_accuracy'])"
      ]
     },
     "execution_count": 33,
     "metadata": {},
     "output_type": "execute_result"
    }
   ],
   "source": [
    "# model.fit()이 반환한 history 속성 확인 (딕셔너리)\n",
    "history_dict = history.history\n",
    "history_dict.keys()\n",
    "\n",
    "# 훈련과 검증하는 동안 모니터링할 측정 지표 포함\n",
    "# loss, accuracy, val_loss,  val_accuracy\n",
    "# 훈련 손실, 훈련 정확도, 검증 손실, 검증 정확도"
   ]
  },
  {
   "cell_type": "code",
   "execution_count": null,
   "id": "3f11b937",
   "metadata": {},
   "outputs": [],
   "source": [
    "# Matplotlib을 사용해 훈련과 검증 데이터에 대한 손실과 정확도를 시각화"
   ]
  },
  {
   "cell_type": "code",
   "execution_count": 34,
   "id": "57fa4e83",
   "metadata": {},
   "outputs": [],
   "source": [
    "import matplotlib.pyplot as plt"
   ]
  },
  {
   "cell_type": "code",
   "execution_count": 35,
   "id": "1efe889c",
   "metadata": {},
   "outputs": [
    {
     "data": {
      "image/png": "[encoded data removed]",
      "text/plain": [
       "<Figure size 432x288 with 1 Axes>"
      ]
     },
     "metadata": {
      "needs_background": "light"
     },
     "output_type": "display_data"
    }
   ],
   "source": [
    "acc = history.history['accuracy']\n",
    "val_acc = history.history['val_accuracy']\n",
    "loss = history.history['loss']\n",
    "val_loss = history.history['val_loss']\n",
    "\n",
    "epochs = range(1, len(acc) + 1)\n",
    "\n",
    "# 훈련 손실과 검증 손실 시각화\n",
    "plt.plot(epochs, loss, 'bo', label='Training loss')\n",
    "plt.plot(epochs, val_loss, 'b', label='Validation loss')\n",
    "\n",
    "plt.title('Training and Validation losss')\n",
    "plt.xlabel('Epochs')\n",
    "plt.ylabel('Loss')\n",
    "plt.legend()\n",
    "\n",
    "plt.show()"
   ]
  },
  {
   "cell_type": "code",
   "execution_count": 38,
   "id": "80958200",
   "metadata": {},
   "outputs": [
    {
     "data": {
      "image/png": "[encoded data removed]",
      "text/plain": [
       "<Figure size 432x288 with 1 Axes>"
      ]
     },
     "metadata": {
      "needs_background": "light"
     },
     "output_type": "display_data"
    }
   ],
   "source": [
    "# 훈련 정확도와 검증 정확도 시각화\n",
    "\n",
    "plt.clf()  # 그래프 초기화\n",
    "plt.plot(epochs, acc, 'bo', label='Training accuracy')\n",
    "plt.plot(epochs, val_acc, 'b', label='Validation accuracy')\n",
    "\n",
    "plt.title('Training and Validation accuracy')\n",
    "plt.xlabel('Epochs')\n",
    "plt.ylabel('Loss')\n",
    "plt.legend()\n",
    "\n",
    "plt.show()"
   ]
  },
  {
   "cell_type": "code",
   "execution_count": null,
   "id": "68baffed",
   "metadata": {},
   "outputs": [],
   "source": [
    "결과\n",
    "\n",
    "훈련 손실\n",
    "- 에포크가 증가할수록 훈련 손실 감소\n",
    "- 경사 하강법 최적화를 사용했기 때문에\n",
    "- 반복마다 손실이 최소화되는 것으로 기대했던대로 결과 나왔음\n",
    "\n",
    "검증 손실\n",
    "- val_loss : 조금씩 감소하다가 6번째 에포크에서 역전되면서 검증 손실 증가\n",
    "- 훈련 세트에서 잘 작동하는 모델이 처음 보는 데이터에서는 잘 작동하지 않음\n",
    "--> 과적합 문제\n",
    "- 2번째 에포크부터 훈련 데이터에 과도하게 최적화되어 \n",
    "- 훈련 데이터에 특화된 표현을 학습함으로써 \n",
    "- 훈련 데이터 셋 이외의 데이터에서는 일반화하지 못함\n",
    "- 이런 경우에 과대적합을 방지하기 위해\n",
    "- 3번째 에포크 이후에 훈련을 중지할 수 있음"
   ]
  },
  {
   "cell_type": "code",
   "execution_count": 46,
   "id": "f7791184",
   "metadata": {},
   "outputs": [
    {
     "name": "stdout",
     "output_type": "stream",
     "text": [
      "Epoch 1/4\n",
      "30/30 [==============================] - 2s 42ms/step - loss: 0.5805 - accuracy: 0.7119 - val_loss: 0.3853 - val_accuracy: 0.8607\n",
      "Epoch 2/4\n",
      "30/30 [==============================] - 1s 30ms/step - loss: 0.3192 - accuracy: 0.9042 - val_loss: 0.3229 - val_accuracy: 0.8758\n",
      "Epoch 3/4\n",
      "30/30 [==============================] - 1s 31ms/step - loss: 0.2270 - accuracy: 0.9282 - val_loss: 0.3136 - val_accuracy: 0.8709\n",
      "Epoch 4/4\n",
      "30/30 [==============================] - 1s 27ms/step - loss: 0.1777 - accuracy: 0.9458 - val_loss: 0.2813 - val_accuracy: 0.8867\n",
      "782/782 [==============================] - 5s 7ms/step - loss: 0.3012 - accuracy: 0.8780\n"
     ]
    }
   ],
   "source": [
    "#  처음부터 다시 새로운 신경망을 만들어서\n",
    "# 4번의 에퐄 동안만 훈련하고\\\n",
    "# 데이트 데이터에서 평가\n",
    "\n",
    "tf.random.set_seed(3)\n",
    "\n",
    "model = Sequential()\n",
    "model.add(Dense(16, activation='relu', input_shape=(10000,)))\n",
    "model.add(Dense(16, activation='relu'))\n",
    "model.add(Dense(1, activation='sigmoid'))\n",
    "\n",
    "model.compile(optimizer=optimizers.RMSprop(lr=0.001),\n",
    "             loss='binary_crossentropy',\n",
    "             metrics=['accuracy'])\n",
    "\n",
    "history = model.fit(partial_x_train, \n",
    "                   partial_y_train,\n",
    "                   epochs=4,\n",
    "                   batch_size=512,\n",
    "                   validation_data=(x_val, y_val))\n",
    "\n",
    "results = model.evaluate(x_test, y_test)\n",
    "\n",
    "# 6번 에포크부터 과대적합 문제가 발생했다는 확인하에\n",
    "# 4번, 5번 에포크 동안 훈련한 결과\n",
    "# 4번 에포크 수행 시 검증 손실이 최적화로 많이 줄었음\n",
    "#  val_loss: 0.6774   --> 0.2813 "
   ]
  },
  {
   "cell_type": "code",
   "execution_count": null,
   "id": "253a175a",
   "metadata": {},
   "outputs": [],
   "source": [
    "30/30 [==============================] - 1s 28ms/step - loss: 0.0057 - accuracy: 0.9996 - val_loss: 0.6774 - val_accuracy: 0.8661"
   ]
  },
  {
   "cell_type": "code",
   "execution_count": 47,
   "id": "af115dae",
   "metadata": {},
   "outputs": [
    {
     "data": {
      "text/plain": [
       "[0.3012411594390869, 0.878000020980835]"
      ]
     },
     "execution_count": 47,
     "metadata": {},
     "output_type": "execute_result"
    }
   ],
   "source": [
    "results"
   ]
  },
  {
   "cell_type": "code",
   "execution_count": null,
   "id": "83e82e56",
   "metadata": {},
   "outputs": [],
   "source": [
    "# 다시 시각화"
   ]
  },
  {
   "cell_type": "code",
   "execution_count": 44,
   "id": "c20537a1",
   "metadata": {},
   "outputs": [
    {
     "data": {
      "image/png": "[encoded data removed]",
      "text/plain": [
       "<Figure size 432x288 with 1 Axes>"
      ]
     },
     "metadata": {
      "needs_background": "light"
     },
     "output_type": "display_data"
    }
   ],
   "source": [
    "acc = history.history['accuracy']\n",
    "val_acc = history.history['val_accuracy']\n",
    "loss = history.history['loss']\n",
    "val_loss = history.history['val_loss']\n",
    "\n",
    "epochs = range(1, len(acc) + 1)\n",
    "\n",
    "# 훈련 손실과 검증 손실 시각화\n",
    "plt.plot(epochs, loss, 'bo', label='Training loss')\n",
    "plt.plot(epochs, val_loss, 'b', label='Validation loss')\n",
    "\n",
    "plt.title('Training and Validation losss')\n",
    "plt.xlabel('Epochs')\n",
    "plt.ylabel('Loss')\n",
    "plt.legend()\n",
    "\n",
    "plt.show()"
   ]
  },
  {
   "cell_type": "code",
   "execution_count": 45,
   "id": "da896fd8",
   "metadata": {},
   "outputs": [
    {
     "data": {
      "image/png": "[encoded data removed]",
      "text/plain": [
       "<Figure size 432x288 with 1 Axes>"
      ]
     },
     "metadata": {
      "needs_background": "light"
     },
     "output_type": "display_data"
    }
   ],
   "source": [
    "# 훈련 정확도와 검증 정확도 시각화\n",
    "\n",
    "plt.clf()  # 그래프 초기화\n",
    "plt.plot(epochs, acc, 'bo', label='Training accuracy')\n",
    "plt.plot(epochs, val_acc, 'b', label='Validation accuracy')\n",
    "\n",
    "plt.title('Training and Validation accuracy')\n",
    "plt.xlabel('Epochs')\n",
    "plt.ylabel('Loss')\n",
    "plt.legend()\n",
    "\n",
    "plt.show()"
   ]
  },
  {
   "cell_type": "markdown",
   "id": "faa51b4e",
   "metadata": {},
   "source": [
    "### 훈련된 모델로 새로운 데이터에 대해 예측하기"
   ]
  },
  {
   "cell_type": "code",
   "execution_count": null,
   "id": "e7fee2c2",
   "metadata": {},
   "outputs": [],
   "source": [
    "모델을 훈련시킨 후에 이를 실전 환경에서 사용\n",
    "pretict() 메서드 사용해서 어떤 리뷰가 긍정일 확률을 예측할 수 있음"
   ]
  },
  {
   "cell_type": "code",
   "execution_count": 48,
   "id": "7d67fc46",
   "metadata": {},
   "outputs": [
    {
     "data": {
      "text/plain": [
       "array([[0.22011477],\n",
       "       [0.9972087 ],\n",
       "       [0.77906597],\n",
       "       ...,\n",
       "       [0.09702146],\n",
       "       [0.11253944],\n",
       "       [0.5112367 ]], dtype=float32)"
      ]
     },
     "execution_count": 48,
     "metadata": {},
     "output_type": "execute_result"
    }
   ],
   "source": [
    "model.predict(x_test)"
   ]
  },
  {
   "cell_type": "code",
   "execution_count": 51,
   "id": "4faa23a5",
   "metadata": {},
   "outputs": [
    {
     "data": {
      "text/plain": [
       "array([[2.2011477e-01],\n",
       "       [9.9720871e-01],\n",
       "       [7.7906597e-01],\n",
       "       [6.4490604e-01],\n",
       "       [8.6110628e-01],\n",
       "       [7.7820569e-01],\n",
       "       [9.8798192e-01],\n",
       "       [3.2819867e-02],\n",
       "       [9.1765106e-01],\n",
       "       [9.6375000e-01],\n",
       "       [8.2712430e-01],\n",
       "       [9.4412267e-03],\n",
       "       [8.9263916e-04],\n",
       "       [4.1003227e-03],\n",
       "       [9.8286694e-01],\n",
       "       [3.9780509e-05],\n",
       "       [8.0505127e-01],\n",
       "       [3.7094644e-01],\n",
       "       [1.3230920e-02],\n",
       "       [4.4600934e-02]], dtype=float32)"
      ]
     },
     "execution_count": 51,
     "metadata": {},
     "output_type": "execute_result"
    }
   ],
   "source": [
    "model.predict(x_test)[:20]"
   ]
  },
  {
   "cell_type": "code",
   "execution_count": null,
   "id": "f2297da4",
   "metadata": {},
   "outputs": [],
   "source": [
    "우리가 생성한 모델은 어떤 샘플에 대해 확신을 가지고 있고(0.99 이상, 0.01 이하인 경우)\n",
    "어떤 샘플에 대해서는 확신이 부족 (0.6, 0.4)"
   ]
  },
  {
   "cell_type": "code",
   "execution_count": null,
   "id": "834ad475",
   "metadata": {},
   "outputs": [],
   "source": [
    "정리\n",
    "- 원본 데이터를 신경망에 텐서로 주입하기 위해서는\n",
    "- 많은 전처리 작업 필요\n",
    "- 단어 시퀀스는 이진 벡터로 인코딩\n",
    "- relu 활성화 함수와 함께 Dense 층을 쌓은 네트워크(모델)는 감성 분류 등 여러 종류의 문제에 적용할 수 있어서 앞으로 자주 사용함\n",
    "- 출력 클래스가 2개인 이진 분류 문제에는 하나의 유닛과 sigmoid 활서화 함수를 가진 Dense 층으로 끝나야 함\n",
    "- 이 신경망의 출력은 확률을 나타내는 0과 1 사이의 스칼라 값\n",
    "- 이진 분류 문제에서 이런 스칼라 시그모이드 출력에 대해 사용할 손실 함수는 binary_crossentropy 임\n",
    "- rmspro 옵티마이저는 문제에 상관없이 일반적으로 좋은 선택으로 잘 사용됨\n",
    "- 훈련 데이터에 대해 성능이 향상됨에 따라 신경망이 과대적합하기 시작하고\n",
    "- 이전에 본적 없는 새로운 데이터에 대해서는 결과가 점점 더 나빠짐\n",
    "- 항상 훈련 데이터 셋 이외의 데이터에서 성능을 모니터링해야 함"
   ]
  },
  {
   "cell_type": "code",
   "execution_count": null,
   "id": "033515e8",
   "metadata": {},
   "outputs": [],
   "source": []
  },
  {
   "cell_type": "code",
   "execution_count": null,
   "id": "5330b05e",
   "metadata": {},
   "outputs": [],
   "source": [
    "합성곱 신경망\n",
    "- 시각적 영상 분석에 주로 사용 \n",
    "-이미지 행렬에 합성곱 연산을 수행해서 이미지의 특징을 추출"
   ]
  },
  {
   "cell_type": "code",
   "execution_count": null,
   "id": "baeba2c9",
   "metadata": {},
   "outputs": [],
   "source": []
  },
  {
   "cell_type": "code",
   "execution_count": null,
   "id": "c246f9d3",
   "metadata": {},
   "outputs": [],
   "source": []
  },
  {
   "cell_type": "code",
   "execution_count": null,
   "id": "34e8e136",
   "metadata": {},
   "outputs": [],
   "source": []
  },
  {
   "cell_type": "code",
   "execution_count": null,
   "id": "55677133",
   "metadata": {},
   "outputs": [],
   "source": []
  }
 ],
 "metadata": {
  "kernelspec": {
   "display_name": "HKD_ENV",
   "language": "python",
   "name": "hkdenv"
  },
  "language_info": {
   "codemirror_mode": {
    "name": "ipython",
    "version": 3
   },
   "file_extension": ".py",
   "mimetype": "text/x-python",
   "name": "python",
   "nbconvert_exporter": "python",
   "pygments_lexer": "ipython3",
   "version": "3.7.11"
  }
 },
 "nbformat": 4,
 "nbformat_minor": 5
}
