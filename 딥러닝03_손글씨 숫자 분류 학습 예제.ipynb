{
 "cells": [
  {
   "cell_type": "markdown",
   "id": "3b8fe9e4",
   "metadata": {},
   "source": [
    "## 케라스 파이썬 라이브럴를 사용하여 손글씨 숫자 분류 학습"
   ]
  },
  {
   "cell_type": "code",
   "execution_count": null,
   "id": "bf0b5d19",
   "metadata": {},
   "outputs": [],
   "source": [
    "- 흑백 손글시 숫자 이미지(28x28 픽셀)을 10개의 범주(0~9)로 분류\n",
    "- MNIST 데이터 셋 사용\n",
    "- 1980년대 미국 국립표준기술연구소에서 수집한\n",
    "- 6만 개의 훈련 이미지와 1만 개의 테스트 이미지로 구성\n",
    "- MNIST 데이터 셋은 넘파이 배열 형태로 케라스에 이미 포함되어 있음"
   ]
  },
  {
   "cell_type": "code",
   "execution_count": 30,
   "id": "9a2ad337",
   "metadata": {},
   "outputs": [],
   "source": [
    "from keras.datasets import mnist\n",
    "\n",
    "(train_images, train_labels), (test_images, test_labels) = mnist.load_data()"
   ]
  },
  {
   "cell_type": "code",
   "execution_count": 31,
   "id": "f8d8f4a5",
   "metadata": {},
   "outputs": [
    {
     "data": {
      "text/plain": [
       "(60000, 28, 28)"
      ]
     },
     "execution_count": 31,
     "metadata": {},
     "output_type": "execute_result"
    }
   ],
   "source": [
    "# 학습 데이터 확인\n",
    "train_images.shape # 8비트 정수형 3D 텐서임"
   ]
  },
  {
   "cell_type": "code",
   "execution_count": 32,
   "id": "b69545a0",
   "metadata": {},
   "outputs": [
    {
     "data": {
      "text/plain": [
       "3"
      ]
     },
     "execution_count": 32,
     "metadata": {},
     "output_type": "execute_result"
    }
   ],
   "source": [
    "# 축의 개수 확인 : ndim\n",
    "train_images.ndim  \n",
    "# 3 : 3D (3차원 : 3개의 축으로 구성)\n",
    "# 28 x 28 크기의 정수 행렬이 6만 개가 있는 배열"
   ]
  },
  {
   "cell_type": "code",
   "execution_count": 33,
   "id": "1005c151",
   "metadata": {},
   "outputs": [
    {
     "data": {
      "text/plain": [
       "60000"
      ]
     },
     "execution_count": 33,
     "metadata": {},
     "output_type": "execute_result"
    }
   ],
   "source": [
    "len(train_labels)"
   ]
  },
  {
   "cell_type": "code",
   "execution_count": 34,
   "id": "74184cd4",
   "metadata": {},
   "outputs": [
    {
     "data": {
      "text/plain": [
       "(10000, 28, 28)"
      ]
     },
     "execution_count": 34,
     "metadata": {},
     "output_type": "execute_result"
    }
   ],
   "source": [
    "# 데스트 데이터 확인\n",
    "test_images.shape"
   ]
  },
  {
   "cell_type": "code",
   "execution_count": 35,
   "id": "f7d156f1",
   "metadata": {},
   "outputs": [
    {
     "data": {
      "text/plain": [
       "array([5, 0, 4, ..., 5, 6, 8], dtype=uint8)"
      ]
     },
     "execution_count": 35,
     "metadata": {},
     "output_type": "execute_result"
    }
   ],
   "source": [
    "# 레이블 확인\n",
    "train_labels\n",
    "\n",
    "# dtype=uint8 : 0~255 범위로 양수만 표현이 가능한 2^8개 만큼 표현 가능"
   ]
  },
  {
   "cell_type": "code",
   "execution_count": 36,
   "id": "8a5b766f",
   "metadata": {},
   "outputs": [
    {
     "data": {
      "image/png": "[encoded data removed]",
      "text/plain": [
       "<Figure size 432x288 with 1 Axes>"
      ]
     },
     "metadata": {
      "needs_background": "light"
     },
     "output_type": "display_data"
    }
   ],
   "source": [
    "# 다섯 번째 샘플을 맷플롯립 라이브러리를 사용해서 확인\n",
    "import matplotlib.pyplot as plt\n",
    "\n",
    "digit  = train_images[4]\n",
    "\n",
    "plt.imshow(digit, cmap=plt.cm.binary)\n",
    "plt.show()"
   ]
  },
  {
   "cell_type": "code",
   "execution_count": 37,
   "id": "5d8bfe6e",
   "metadata": {},
   "outputs": [],
   "source": [
    "# 데이터 전처리 : 2차원으로 변환\n",
    "# 0과 1사이의 값을 가지는 float32 타입의 \n",
    "# (60000, 28 * 28) 크기의 2차원 배열로 변경 (60000, 784)\n",
    "train_images = train_images.reshape((60000, 28 * 28))\n",
    "train_images = train_images.astype('float32') / 255\n",
    "\n",
    "# (10000, 28 * 28) 크기의 2차원 배열로 변경 (10000, 784)\n",
    "test_images = test_images.reshape((10000, 28 * 28))\n",
    "test_images = test_images.astype('float32') / 255"
   ]
  },
  {
   "cell_type": "code",
   "execution_count": 38,
   "id": "8228433f",
   "metadata": {},
   "outputs": [
    {
     "data": {
      "text/plain": [
       "2"
      ]
     },
     "execution_count": 38,
     "metadata": {},
     "output_type": "execute_result"
    }
   ],
   "source": [
    "train_images.ndim  # 2차원으로 변환됨"
   ]
  },
  {
   "cell_type": "code",
   "execution_count": 39,
   "id": "7ade9c11",
   "metadata": {},
   "outputs": [],
   "source": [
    "# 레이블을 범주형으로 인코딩\n",
    "\n",
    "from keras.utils import to_categorical\n",
    "\n",
    "train_labels = to_categorical(train_labels)\n",
    "test_labels = to_categorical(test_labels)"
   ]
  },
  {
   "cell_type": "markdown",
   "id": "af12398f",
   "metadata": {},
   "source": [
    "작업 순서  \n",
    "(1) 모델 설정  \n",
    "(2) 컴파일  \n",
    "(3) 모델 실행 (학습)  \n",
    "(4) 모델 평가"
   ]
  },
  {
   "cell_type": "code",
   "execution_count": 43,
   "id": "1fb6d1e9",
   "metadata": {},
   "outputs": [
    {
     "name": "stdout",
     "output_type": "stream",
     "text": [
      "Epoch 1/5\n",
      "469/469 [==============================] - 5s 9ms/step - loss: 0.4304 - accuracy: 0.8742\n",
      "Epoch 2/5\n",
      "469/469 [==============================] - 5s 11ms/step - loss: 0.1087 - accuracy: 0.9682\n",
      "Epoch 3/5\n",
      "469/469 [==============================] - 5s 11ms/step - loss: 0.0665 - accuracy: 0.9790\n",
      "Epoch 4/5\n",
      "469/469 [==============================] - 5s 11ms/step - loss: 0.0503 - accuracy: 0.9846\n",
      "Epoch 5/5\n",
      "469/469 [==============================] - 5s 10ms/step - loss: 0.0354 - accuracy: 0.9899\n",
      "313/313 [==============================] - 1s 3ms/step - loss: 0.0759 - accuracy: 0.9781\n",
      "test_acc :  0.9781000018119812\n",
      "test_loss :  0.07594442367553711\n"
     ]
    }
   ],
   "source": [
    "# 딥러닝 수행\n",
    "\n",
    "from tensorflow.keras.models import Sequential\n",
    "from tensorflow.keras.layers import Dense, LSTM\n",
    "import tensorflow as tf\n",
    "\n",
    "tf.random.set_seed(3)\n",
    "\n",
    "# (1) 모델 설정\n",
    "# 딥러닝의 구조와 층을 설정하는 단계\n",
    "network = Sequential() # 일반적으로 modle로 많이 사용\n",
    "network.add(Dense(512, activation='relu', input_shape=(28*28,)))\n",
    "network.add(Dense(10, activation='softmax'))\n",
    "\n",
    "# (2) 컴파일 : loss, optimizer, metrics 설정 단계 \n",
    "network.compile(optimizer='rmsprop',\n",
    "               loss = 'categorical_crossentropy',\n",
    "               metrics=['accuracy'])\n",
    "\n",
    "# (3) 모델 실행 (학습)\n",
    "network.fit(train_images, train_labels, epochs=5, batch_size=128)\n",
    "\n",
    "# (4) 모델 평가\n",
    "test_loss, test_acc = network.evaluate(test_images, test_labels)\n",
    "print('test_acc : ', test_acc)\n",
    "print('test_loss : ', test_loss)\n",
    "\n",
    "# 손실은 점점 작아지고 정확도는 높아짐"
   ]
  },
  {
   "cell_type": "code",
   "execution_count": null,
   "id": "6d3f91e0",
   "metadata": {},
   "outputs": [],
   "source": []
  },
  {
   "cell_type": "code",
   "execution_count": null,
   "id": "0cdbe07c",
   "metadata": {},
   "outputs": [],
   "source": []
  },
  {
   "cell_type": "code",
   "execution_count": null,
   "id": "b52d8dd1",
   "metadata": {},
   "outputs": [],
   "source": []
  },
  {
   "cell_type": "code",
   "execution_count": null,
   "id": "4a4d4595",
   "metadata": {},
   "outputs": [],
   "source": []
  },
  {
   "cell_type": "code",
   "execution_count": null,
   "id": "146c4fe3",
   "metadata": {},
   "outputs": [],
   "source": []
  },
  {
   "cell_type": "code",
   "execution_count": null,
   "id": "bf35f40f",
   "metadata": {},
   "outputs": [],
   "source": []
  }
 ],
 "metadata": {
  "kernelspec": {
   "display_name": "HKD_ENV",
   "language": "python",
   "name": "hkdenv"
  },
  "language_info": {
   "codemirror_mode": {
    "name": "ipython",
    "version": 3
   },
   "file_extension": ".py",
   "mimetype": "text/x-python",
   "name": "python",
   "nbconvert_exporter": "python",
   "pygments_lexer": "ipython3",
   "version": "3.7.11"
  }
 },
 "nbformat": 4,
 "nbformat_minor": 5
}
