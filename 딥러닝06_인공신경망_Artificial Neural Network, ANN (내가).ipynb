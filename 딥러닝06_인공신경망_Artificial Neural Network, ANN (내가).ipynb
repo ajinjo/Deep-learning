{
 "cells": [
  {
   "cell_type": "code",
   "execution_count": null,
   "id": "9d5a5fc8",
   "metadata": {},
   "outputs": [],
   "source": []
  },
  {
   "cell_type": "code",
   "execution_count": null,
   "id": "a96a3d73",
   "metadata": {},
   "outputs": [],
   "source": [
    "인공신경망(Artificial Neural Network : ANN)\n",
    "- 인간의 뉴런 구조를 본떠 만든 기계학습 모델\n",
    "- 인간의 뉴런 등장 원리에 기초해 인공적으로 구축한 신경망"
   ]
  },
  {
   "cell_type": "code",
   "execution_count": null,
   "id": "25baa381",
   "metadata": {},
   "outputs": [],
   "source": [
    "인공신경망의 종류\n",
    "- DNN (Deep Neural Network : 심층신경망)\n",
    "- DFN (Deep FeddForward Neural Network : 피드 포워드 신경망)\n",
    "- RNN (Recurrent Neural Network : 순환 신경망)\n",
    "- Long Short-Term Memory (LSTM : 장단기 메모리)\n",
    "- CNN (Convolution Netural Network : 합성곱 신경망)"
   ]
  },
  {
   "cell_type": "code",
   "execution_count": null,
   "id": "0b97d352",
   "metadata": {},
   "outputs": [],
   "source": []
  },
  {
   "cell_type": "code",
   "execution_count": null,
   "id": "57f00a22",
   "metadata": {},
   "outputs": [],
   "source": []
  }
 ],
 "metadata": {
  "kernelspec": {
   "display_name": "Python 3",
   "language": "python",
   "name": "python3"
  },
  "language_info": {
   "codemirror_mode": {
    "name": "ipython",
    "version": 3
   },
   "file_extension": ".py",
   "mimetype": "text/x-python",
   "name": "python",
   "nbconvert_exporter": "python",
   "pygments_lexer": "ipython3",
   "version": "3.8.8"
  }
 },
 "nbformat": 4,
 "nbformat_minor": 5
}
